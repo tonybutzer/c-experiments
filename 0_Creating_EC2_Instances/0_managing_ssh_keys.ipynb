{
 "cells": [
  {
   "cell_type": "markdown",
   "id": "c1dd59cd",
   "metadata": {},
   "source": [
    "# Instance Keypair\n",
    "\n",
    "- you can push your windows public key up to aws and use it with all of your newly created instance\n",
    "\n",
    "\n",
    "## Interacting with GIT and code.usgs.gov\n",
    "1. create my new private - public keypair\n",
    "    - ssh-keygen # hit a bunch of return\n",
    "    - cat ~/.ssh/id_rsa.pub  # copy paste that into code.usgs.gov  Pat knows how to do this\n",
    "    \n",
    "## Managing Guest Keys with Git - to allow users ssh \n",
    "\n",
    "- git clone git@code.usgs.gov:nlcd/nlcd-keys.git\n",
    "- cd nldc-keys\n",
    "- make add-auth\n",
    "- cat ~/.ssh/authorized_keys\n",
    "\n",
    "- you can test this like - ssh ec2-user@10.12.69.13 # your ip address - "
   ]
  }
 ],
 "metadata": {
  "kernelspec": {
   "display_name": "Python 3",
   "language": "python",
   "name": "python3"
  },
  "language_info": {
   "codemirror_mode": {
    "name": "ipython",
    "version": 3
   },
   "file_extension": ".py",
   "mimetype": "text/x-python",
   "name": "python",
   "nbconvert_exporter": "python",
   "pygments_lexer": "ipython3",
   "version": "3.7.10"
  }
 },
 "nbformat": 4,
 "nbformat_minor": 5
}
