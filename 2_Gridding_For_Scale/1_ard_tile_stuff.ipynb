{
 "cells": [
  {
   "cell_type": "code",
   "execution_count": null,
   "id": "f80a9bab",
   "metadata": {},
   "outputs": [],
   "source": [
    "#!wget https://prd-wret.s3.us-west-2.amazonaws.com/assets/palladium/production/atoms/files/CONUS_C2_ARD_grid.zip"
   ]
  },
  {
   "cell_type": "code",
   "execution_count": null,
   "id": "4d5accd8",
   "metadata": {},
   "outputs": [],
   "source": [
    "#!unzip CONUS_C2_ARD_grid.zip"
   ]
  },
  {
   "cell_type": "code",
   "execution_count": null,
   "id": "37b994c4",
   "metadata": {},
   "outputs": [],
   "source": [
    "import geopandas as gpd\n",
    "\n",
    "gdf = gpd.read_file('CONUS_C2_ARD_grid/conus_c2_ard_grid.shp')"
   ]
  },
  {
   "cell_type": "code",
   "execution_count": null,
   "id": "2316b4a8",
   "metadata": {},
   "outputs": [],
   "source": [
    "gdf"
   ]
  },
  {
   "cell_type": "code",
   "execution_count": null,
   "id": "4be3287a",
   "metadata": {},
   "outputs": [],
   "source": [
    "from cubelib.plot_poly import plot_polygons"
   ]
  },
  {
   "cell_type": "code",
   "execution_count": null,
   "id": "1b16daaa",
   "metadata": {},
   "outputs": [],
   "source": [
    "#plot_polygons(gdf)"
   ]
  },
  {
   "cell_type": "code",
   "execution_count": null,
   "id": "6280f76a",
   "metadata": {},
   "outputs": [],
   "source": [
    "gdf.plot(column='h')"
   ]
  },
  {
   "cell_type": "code",
   "execution_count": null,
   "id": "273c4d5d",
   "metadata": {},
   "outputs": [],
   "source": [
    "gdf.plot()"
   ]
  },
  {
   "cell_type": "code",
   "execution_count": null,
   "id": "21d3b08b",
   "metadata": {},
   "outputs": [],
   "source": [
    "dir(gdf.loc(0))"
   ]
  },
  {
   "cell_type": "code",
   "execution_count": null,
   "id": "e5aa8791",
   "metadata": {},
   "outputs": [],
   "source": [
    "print(gdf.iloc[0].geometry)"
   ]
  },
  {
   "cell_type": "code",
   "execution_count": null,
   "id": "b6594787",
   "metadata": {},
   "outputs": [],
   "source": [
    "jdf = gdf.iloc[0]"
   ]
  },
  {
   "cell_type": "code",
   "execution_count": null,
   "id": "b8736afb",
   "metadata": {},
   "outputs": [],
   "source": [
    "jdf"
   ]
  },
  {
   "cell_type": "code",
   "execution_count": null,
   "id": "20a7716d",
   "metadata": {},
   "outputs": [],
   "source": [
    "jdf.head"
   ]
  },
  {
   "cell_type": "code",
   "execution_count": null,
   "id": "5b582dbe",
   "metadata": {},
   "outputs": [],
   "source": [
    "type(jdf)"
   ]
  },
  {
   "cell_type": "code",
   "execution_count": null,
   "id": "d080ec00",
   "metadata": {},
   "outputs": [],
   "source": [
    "#my_geoseries = jdf.set_crs(epsg=4326)"
   ]
  },
  {
   "cell_type": "code",
   "execution_count": null,
   "id": "bab253ab",
   "metadata": {},
   "outputs": [],
   "source": [
    "dir(gpd)"
   ]
  },
  {
   "cell_type": "code",
   "execution_count": null,
   "id": "9c2d10cb",
   "metadata": {},
   "outputs": [],
   "source": [
    "a=gpd.GeoDataFrame(jdf)"
   ]
  },
  {
   "cell_type": "code",
   "execution_count": null,
   "id": "011e5edf",
   "metadata": {},
   "outputs": [],
   "source": [
    "type(gdf)"
   ]
  },
  {
   "cell_type": "code",
   "execution_count": null,
   "id": "9c19e163",
   "metadata": {},
   "outputs": [],
   "source": [
    "a"
   ]
  },
  {
   "cell_type": "code",
   "execution_count": null,
   "id": "e07b90b7",
   "metadata": {},
   "outputs": [],
   "source": [
    "#a.set_crs(epsg=5702)"
   ]
  },
  {
   "cell_type": "code",
   "execution_count": null,
   "id": "55f83906",
   "metadata": {},
   "outputs": [],
   "source": [
    "#gdf.set_crs(epsg=5702)"
   ]
  },
  {
   "cell_type": "code",
   "execution_count": null,
   "id": "02c40762",
   "metadata": {},
   "outputs": [],
   "source": [
    "gdf.crs"
   ]
  },
  {
   "cell_type": "code",
   "execution_count": null,
   "id": "74368107",
   "metadata": {},
   "outputs": [],
   "source": [
    "gdf_lat_lon = gdf.to_crs(\"EPSG:4326\")"
   ]
  },
  {
   "cell_type": "code",
   "execution_count": null,
   "id": "56009ac8",
   "metadata": {},
   "outputs": [],
   "source": [
    "gdf_lat_lon"
   ]
  },
  {
   "cell_type": "code",
   "execution_count": null,
   "id": "f3cd10f9",
   "metadata": {},
   "outputs": [],
   "source": [
    "gdf_lat_lon.plot()"
   ]
  },
  {
   "cell_type": "code",
   "execution_count": null,
   "id": "25d819c1",
   "metadata": {},
   "outputs": [],
   "source": [
    "#! wget https://www2.census.gov/geo/tiger/GENZ2018/shp/cb_2018_us_state_500k.zip"
   ]
  },
  {
   "cell_type": "code",
   "execution_count": null,
   "id": "2148b753",
   "metadata": {},
   "outputs": [],
   "source": [
    "#! unzip cb_2018_us_state_500k.zip"
   ]
  },
  {
   "cell_type": "code",
   "execution_count": null,
   "id": "f0bfeb49",
   "metadata": {},
   "outputs": [],
   "source": [
    "sgdf = gpd.read_file('cb_2018_us_state_500k.shp')"
   ]
  },
  {
   "cell_type": "code",
   "execution_count": null,
   "id": "cbb6266f",
   "metadata": {},
   "outputs": [],
   "source": [
    "sgdf.plot()"
   ]
  },
  {
   "cell_type": "code",
   "execution_count": null,
   "id": "87620623",
   "metadata": {},
   "outputs": [],
   "source": [
    "sgdf"
   ]
  },
  {
   "cell_type": "code",
   "execution_count": null,
   "id": "887d4347",
   "metadata": {},
   "outputs": [],
   "source": [
    "maine_gdf = sgdf[sgdf.NAME.isin(['Maine', 'Vermont'])]"
   ]
  },
  {
   "cell_type": "code",
   "execution_count": null,
   "id": "cd4f7614",
   "metadata": {},
   "outputs": [],
   "source": [
    "maine_gdf"
   ]
  },
  {
   "cell_type": "code",
   "execution_count": null,
   "id": "d3927d44",
   "metadata": {},
   "outputs": [],
   "source": [
    "maine_gdf.plot(column='NAME')"
   ]
  },
  {
   "cell_type": "code",
   "execution_count": null,
   "id": "d38cd65f",
   "metadata": {},
   "outputs": [],
   "source": [
    "maine_gdf = sgdf[sgdf.NAME.isin(['Maine',])]"
   ]
  },
  {
   "cell_type": "code",
   "execution_count": null,
   "id": "a14713b9",
   "metadata": {},
   "outputs": [],
   "source": [
    "maine_gdf.plot(column='NAME')"
   ]
  },
  {
   "cell_type": "code",
   "execution_count": null,
   "id": "26684567",
   "metadata": {},
   "outputs": [],
   "source": [
    "inter=gdf_lat_lon.intersects(maine_gdf)"
   ]
  },
  {
   "cell_type": "code",
   "execution_count": null,
   "id": "2fabfb81",
   "metadata": {},
   "outputs": [],
   "source": [
    "maine_gdf_lat_lon = maine_gdf.to_crs(\"EPSG:4326\")"
   ]
  },
  {
   "cell_type": "code",
   "execution_count": null,
   "id": "6918fc2e",
   "metadata": {},
   "outputs": [],
   "source": [
    "maine_gdf_lat_lon"
   ]
  },
  {
   "cell_type": "code",
   "execution_count": null,
   "id": "1eff7e0c",
   "metadata": {},
   "outputs": [],
   "source": [
    "inter=gdf_lat_lon.intersects(maine_gdf_lat_lon.iloc[0]['geometry'], align=False)"
   ]
  },
  {
   "cell_type": "code",
   "execution_count": null,
   "id": "636a305b",
   "metadata": {},
   "outputs": [],
   "source": [
    "inter"
   ]
  },
  {
   "cell_type": "code",
   "execution_count": null,
   "id": "d7a6c997",
   "metadata": {},
   "outputs": [],
   "source": [
    "gdf_maine_tiles = gdf_lat_lon[inter]"
   ]
  },
  {
   "cell_type": "code",
   "execution_count": null,
   "id": "cd40050b",
   "metadata": {},
   "outputs": [],
   "source": [
    "gdf_maine_tiles.plot(column='h')"
   ]
  },
  {
   "cell_type": "code",
   "execution_count": null,
   "id": "08ee44de",
   "metadata": {},
   "outputs": [],
   "source": [
    "gdf_maine_tiles.plot()"
   ]
  },
  {
   "cell_type": "code",
   "execution_count": null,
   "id": "84363488",
   "metadata": {},
   "outputs": [],
   "source": [
    "gdf_maine_tiles"
   ]
  },
  {
   "cell_type": "code",
   "execution_count": null,
   "id": "06746400",
   "metadata": {},
   "outputs": [],
   "source": [
    "import pickle"
   ]
  },
  {
   "cell_type": "code",
   "execution_count": null,
   "id": "d8cfd7e6",
   "metadata": {},
   "outputs": [],
   "source": [
    "# open a file, where you ant to store the data\n",
    "file = open('gdf_maine_tiles.pickle', 'wb')\n",
    "\n",
    "# dump information to that file\n",
    "pickle.dump(gdf_maine_tiles, file)\n",
    "\n",
    "# close the file\n",
    "file.close()\n"
   ]
  },
  {
   "cell_type": "code",
   "execution_count": null,
   "id": "7d150085",
   "metadata": {},
   "outputs": [],
   "source": []
  }
 ],
 "metadata": {
  "kernelspec": {
   "display_name": "Python 3 (ipykernel)",
   "language": "python",
   "name": "python3"
  },
  "language_info": {
   "codemirror_mode": {
    "name": "ipython",
    "version": 3
   },
   "file_extension": ".py",
   "mimetype": "text/x-python",
   "name": "python",
   "nbconvert_exporter": "python",
   "pygments_lexer": "ipython3",
   "version": "3.9.7"
  }
 },
 "nbformat": 4,
 "nbformat_minor": 5
}
