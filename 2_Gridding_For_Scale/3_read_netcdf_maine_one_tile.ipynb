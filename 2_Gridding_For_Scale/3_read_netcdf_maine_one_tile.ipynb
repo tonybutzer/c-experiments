{
 "cells": [
  {
   "cell_type": "code",
   "execution_count": null,
   "id": "b283ea7f",
   "metadata": {},
   "outputs": [],
   "source": [
    "!ls ~/*.nc"
   ]
  },
  {
   "cell_type": "code",
   "execution_count": null,
   "id": "6904d143",
   "metadata": {},
   "outputs": [],
   "source": [
    "import xarray"
   ]
  },
  {
   "cell_type": "code",
   "execution_count": null,
   "id": "b6e1a1ba",
   "metadata": {},
   "outputs": [],
   "source": [
    "ds = xarray.open_dataset('/home/ec2-user/maine_one_tile.nc')"
   ]
  },
  {
   "cell_type": "code",
   "execution_count": null,
   "id": "4f83f3d3",
   "metadata": {},
   "outputs": [],
   "source": [
    "ds"
   ]
  },
  {
   "cell_type": "code",
   "execution_count": null,
   "id": "f515219f",
   "metadata": {},
   "outputs": [],
   "source": [
    "%matplotlib inline\n",
    "display_color = 'blue'\n",
    "# \n",
    "#ds[display_color].plot.imshow('x','y',col='time', col_wrap=6, cmap='viridis')"
   ]
  },
  {
   "cell_type": "code",
   "execution_count": null,
   "id": "704bf647",
   "metadata": {},
   "outputs": [],
   "source": [
    "#ds.sel(x = [443200,443500],  method='nearest')"
   ]
  },
  {
   "cell_type": "code",
   "execution_count": null,
   "id": "639ed40f",
   "metadata": {},
   "outputs": [],
   "source": [
    "ds['blue'].sel(y=5.100e+06, x=300000, method='nearest').plot()"
   ]
  },
  {
   "cell_type": "code",
   "execution_count": null,
   "id": "ff42d4ed",
   "metadata": {},
   "outputs": [],
   "source": [
    "ds['red'].sel(y=5.100e+06, x=300000, method='nearest').plot()"
   ]
  },
  {
   "cell_type": "code",
   "execution_count": null,
   "id": "01553987",
   "metadata": {},
   "outputs": [],
   "source": [
    "a=ds['red'].sel(y=5.100e+06, x=300000, method='nearest').values"
   ]
  },
  {
   "cell_type": "code",
   "execution_count": null,
   "id": "028ddbcf",
   "metadata": {},
   "outputs": [],
   "source": [
    "type(a)"
   ]
  },
  {
   "cell_type": "code",
   "execution_count": null,
   "id": "8601d35a",
   "metadata": {},
   "outputs": [],
   "source": [
    "import numpy as np\n",
    "np.median(a)"
   ]
  },
  {
   "cell_type": "code",
   "execution_count": null,
   "id": "2fd89736",
   "metadata": {},
   "outputs": [],
   "source": [
    "a"
   ]
  },
  {
   "cell_type": "code",
   "execution_count": null,
   "id": "a4552239",
   "metadata": {},
   "outputs": [],
   "source": [
    "b = a[np.nonzero(a)]"
   ]
  },
  {
   "cell_type": "code",
   "execution_count": null,
   "id": "bf0d99a5",
   "metadata": {},
   "outputs": [],
   "source": [
    "b"
   ]
  },
  {
   "cell_type": "code",
   "execution_count": null,
   "id": "35191259",
   "metadata": {},
   "outputs": [],
   "source": [
    "np.median(b)"
   ]
  },
  {
   "cell_type": "code",
   "execution_count": null,
   "id": "cb12d18c",
   "metadata": {},
   "outputs": [],
   "source": [
    "for y in ds.y.values:\n",
    "    print(y)"
   ]
  },
  {
   "cell_type": "code",
   "execution_count": null,
   "id": "1cb2ec6c",
   "metadata": {},
   "outputs": [],
   "source": [
    "ds"
   ]
  },
  {
   "cell_type": "code",
   "execution_count": null,
   "id": "3372034c",
   "metadata": {},
   "outputs": [],
   "source": [
    "dred=ds['red']"
   ]
  },
  {
   "cell_type": "code",
   "execution_count": null,
   "id": "bf816a1e",
   "metadata": {},
   "outputs": [],
   "source": [
    "dtony=dred.median(axis=[1,2],skipna=True)"
   ]
  },
  {
   "cell_type": "code",
   "execution_count": null,
   "id": "9d01bbc0",
   "metadata": {},
   "outputs": [],
   "source": [
    "dtony"
   ]
  },
  {
   "cell_type": "code",
   "execution_count": null,
   "id": "daf0ae07",
   "metadata": {},
   "outputs": [],
   "source": [
    "dt=dred.T"
   ]
  },
  {
   "cell_type": "code",
   "execution_count": null,
   "id": "0128afa8",
   "metadata": {},
   "outputs": [],
   "source": [
    "dt"
   ]
  },
  {
   "cell_type": "code",
   "execution_count": null,
   "id": "e7fca9e5",
   "metadata": {},
   "outputs": [],
   "source": [
    "dtony=dt.median(axis=[0,1,2],skipna=True)"
   ]
  },
  {
   "cell_type": "code",
   "execution_count": null,
   "id": "10f32842",
   "metadata": {},
   "outputs": [],
   "source": [
    "dtony"
   ]
  },
  {
   "cell_type": "code",
   "execution_count": null,
   "id": "6e378503",
   "metadata": {},
   "outputs": [],
   "source": [
    "dt1 = ds.red"
   ]
  },
  {
   "cell_type": "code",
   "execution_count": null,
   "id": "6c39e140",
   "metadata": {},
   "outputs": [],
   "source": [
    "dt1.mean(axis=0)"
   ]
  },
  {
   "cell_type": "code",
   "execution_count": null,
   "id": "27390908",
   "metadata": {},
   "outputs": [],
   "source": [
    "memean = ds.red.mean(axis=0, skipna=True).astype(int)"
   ]
  },
  {
   "cell_type": "code",
   "execution_count": null,
   "id": "b01a4a32",
   "metadata": {},
   "outputs": [],
   "source": [
    "memean"
   ]
  },
  {
   "cell_type": "code",
   "execution_count": null,
   "id": "e52860d9",
   "metadata": {},
   "outputs": [],
   "source": [
    "memean.plot()"
   ]
  },
  {
   "cell_type": "code",
   "execution_count": null,
   "id": "2ddb4508",
   "metadata": {},
   "outputs": [],
   "source": [
    "import hvplot\n",
    "import hvplot.xarray\n",
    "memean.hvplot(rasterize=True)"
   ]
  },
  {
   "cell_type": "code",
   "execution_count": null,
   "id": "4644b4eb",
   "metadata": {},
   "outputs": [],
   "source": [
    "memin = ds.red.max(axis=0, skipna=True).astype(int)"
   ]
  },
  {
   "cell_type": "code",
   "execution_count": null,
   "id": "f2d79264",
   "metadata": {},
   "outputs": [],
   "source": [
    "memin"
   ]
  },
  {
   "cell_type": "code",
   "execution_count": null,
   "id": "30dfc220",
   "metadata": {},
   "outputs": [],
   "source": [
    "memin.hvplot(rasterize=True)"
   ]
  },
  {
   "cell_type": "code",
   "execution_count": null,
   "id": "ca5df5b2",
   "metadata": {},
   "outputs": [],
   "source": [
    "memin = ds.red.median(axis=0, skipna=True).astype(int)"
   ]
  },
  {
   "cell_type": "code",
   "execution_count": null,
   "id": "ae119baa",
   "metadata": {},
   "outputs": [],
   "source": [
    "memin"
   ]
  },
  {
   "cell_type": "code",
   "execution_count": null,
   "id": "ccb6a04d",
   "metadata": {},
   "outputs": [],
   "source": [
    "npa=ds.red.values.astype(float)"
   ]
  },
  {
   "cell_type": "code",
   "execution_count": null,
   "id": "3850a66a",
   "metadata": {},
   "outputs": [],
   "source": [
    "npa"
   ]
  },
  {
   "cell_type": "code",
   "execution_count": null,
   "id": "76a2da65",
   "metadata": {},
   "outputs": [],
   "source": [
    "npa.shape"
   ]
  },
  {
   "cell_type": "code",
   "execution_count": null,
   "id": "1d701a1f",
   "metadata": {},
   "outputs": [],
   "source": [
    "npa[npa<1]=-1"
   ]
  },
  {
   "cell_type": "code",
   "execution_count": null,
   "id": "d3aa66b9",
   "metadata": {},
   "outputs": [],
   "source": [
    "npa"
   ]
  },
  {
   "cell_type": "code",
   "execution_count": null,
   "id": "f849190f",
   "metadata": {},
   "outputs": [],
   "source": [
    "npa[npa==-1]=np.nan"
   ]
  },
  {
   "cell_type": "code",
   "execution_count": null,
   "id": "2a328556",
   "metadata": {},
   "outputs": [],
   "source": [
    "npa"
   ]
  },
  {
   "cell_type": "code",
   "execution_count": null,
   "id": "b266b275",
   "metadata": {},
   "outputs": [],
   "source": [
    "npb = npa[0:31,0:100,0:100]"
   ]
  },
  {
   "cell_type": "code",
   "execution_count": null,
   "id": "c202da90",
   "metadata": {},
   "outputs": [],
   "source": [
    "npb.shape"
   ]
  },
  {
   "cell_type": "code",
   "execution_count": null,
   "id": "5c3225de",
   "metadata": {},
   "outputs": [],
   "source": [
    "npb"
   ]
  },
  {
   "cell_type": "code",
   "execution_count": null,
   "id": "dddf63ea",
   "metadata": {},
   "outputs": [],
   "source": [
    "m=np.nanmedian(npb, axis=0)"
   ]
  },
  {
   "cell_type": "code",
   "execution_count": null,
   "id": "da755beb",
   "metadata": {},
   "outputs": [],
   "source": [
    "m"
   ]
  },
  {
   "cell_type": "code",
   "execution_count": null,
   "id": "07743e43",
   "metadata": {},
   "outputs": [],
   "source": [
    "m.shape"
   ]
  },
  {
   "cell_type": "code",
   "execution_count": null,
   "id": "1e24db8a",
   "metadata": {},
   "outputs": [],
   "source": [
    "import numpy as np \n",
    "from matplotlib import pyplot as plt \n",
    "\n",
    "# x = np.arange(1,11) \n",
    "# # y = 2 * x + 5 \n",
    "# plt.title(\"Matplotlib demo\") \n",
    "# plt.xlabel(\"x axis caption\") \n",
    "# plt.ylabel(\"y axis caption\") \n",
    "# plt.plot(m) \n",
    "# plt.show()\n",
    "\n",
    "plt.imshow(m, cmap='hot')\n",
    "plt.colorbar()\n",
    "plt.show()"
   ]
  },
  {
   "cell_type": "code",
   "execution_count": null,
   "id": "24b68d64",
   "metadata": {},
   "outputs": [],
   "source": [
    "npb = npa[0:31,3000:3400,3000:3400]"
   ]
  },
  {
   "cell_type": "code",
   "execution_count": null,
   "id": "9ccf4dc6",
   "metadata": {},
   "outputs": [],
   "source": [
    "m=np.nanmedian(npb, axis=0)"
   ]
  },
  {
   "cell_type": "code",
   "execution_count": null,
   "id": "31739f14",
   "metadata": {},
   "outputs": [],
   "source": [
    "m"
   ]
  },
  {
   "cell_type": "code",
   "execution_count": null,
   "id": "6fb7f1f2",
   "metadata": {},
   "outputs": [],
   "source": [
    "from matplotlib.pyplot import figure\n",
    "\n",
    "figure(figsize=(8, 6), dpi=80)\n",
    "\n",
    "plt.imshow(m, cmap='hot', vmin=7000, vmax=18000)\n",
    "plt.colorbar()\n",
    "plt.show()"
   ]
  },
  {
   "cell_type": "code",
   "execution_count": null,
   "id": "900e68b1",
   "metadata": {},
   "outputs": [],
   "source": [
    "from PIL import Image\n",
    "f = Image.open(\"map_area.PNG\").show()\n"
   ]
  },
  {
   "cell_type": "code",
   "execution_count": null,
   "id": "9942786e",
   "metadata": {},
   "outputs": [],
   "source": [
    "#help(plt.imshow)"
   ]
  },
  {
   "cell_type": "code",
   "execution_count": null,
   "id": "fd2433a7",
   "metadata": {},
   "outputs": [],
   "source": []
  }
 ],
 "metadata": {
  "kernelspec": {
   "display_name": "Python 3 (ipykernel)",
   "language": "python",
   "name": "python3"
  },
  "language_info": {
   "codemirror_mode": {
    "name": "ipython",
    "version": 3
   },
   "file_extension": ".py",
   "mimetype": "text/x-python",
   "name": "python",
   "nbconvert_exporter": "python",
   "pygments_lexer": "ipython3",
   "version": "3.9.7"
  }
 },
 "nbformat": 4,
 "nbformat_minor": 5
}
