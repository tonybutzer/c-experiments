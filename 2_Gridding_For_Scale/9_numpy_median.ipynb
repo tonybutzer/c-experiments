{
 "cells": [
  {
   "cell_type": "code",
   "execution_count": 4,
   "id": "ebd33c30",
   "metadata": {},
   "outputs": [],
   "source": [
    "import numpy as np\n",
    "a = np.array([8000,10000, 10000, 9500])"
   ]
  },
  {
   "cell_type": "code",
   "execution_count": 6,
   "id": "e2d6f104",
   "metadata": {},
   "outputs": [],
   "source": [
    "#a.median()"
   ]
  },
  {
   "cell_type": "code",
   "execution_count": 7,
   "id": "20f1a84a",
   "metadata": {},
   "outputs": [
    {
     "data": {
      "text/plain": [
       "9750.0"
      ]
     },
     "execution_count": 7,
     "metadata": {},
     "output_type": "execute_result"
    }
   ],
   "source": [
    "np.nanmedian(a)"
   ]
  },
  {
   "cell_type": "code",
   "execution_count": null,
   "id": "29ff96eb",
   "metadata": {},
   "outputs": [],
   "source": []
  }
 ],
 "metadata": {
  "kernelspec": {
   "display_name": "Python 3 (ipykernel)",
   "language": "python",
   "name": "python3"
  },
  "language_info": {
   "codemirror_mode": {
    "name": "ipython",
    "version": 3
   },
   "file_extension": ".py",
   "mimetype": "text/x-python",
   "name": "python",
   "nbconvert_exporter": "python",
   "pygments_lexer": "ipython3",
   "version": "3.9.7"
  }
 },
 "nbformat": 4,
 "nbformat_minor": 5
}
