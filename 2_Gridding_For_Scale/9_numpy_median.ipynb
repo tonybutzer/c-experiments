{
 "cells": [
  {
   "cell_type": "code",
   "execution_count": 5,
   "id": "ebd33c30",
   "metadata": {},
   "outputs": [],
   "source": [
    "import numpy as np\n",
    "a = np.array([8000,10000, 10000, 9500, np.nan])"
   ]
  },
  {
   "cell_type": "code",
   "execution_count": 6,
   "id": "e2d6f104",
   "metadata": {},
   "outputs": [],
   "source": [
    "#a.median()"
   ]
  },
  {
   "cell_type": "code",
   "execution_count": 7,
   "id": "20f1a84a",
   "metadata": {},
   "outputs": [
    {
     "data": {
      "text/plain": [
       "9750.0"
      ]
     },
     "execution_count": 7,
     "metadata": {},
     "output_type": "execute_result"
    }
   ],
   "source": [
    "np.nanmedian(a)"
   ]
  },
  {
   "cell_type": "code",
   "execution_count": 8,
   "id": "29ff96eb",
   "metadata": {},
   "outputs": [
    {
     "data": {
      "text/plain": [
       "9375.0"
      ]
     },
     "execution_count": 8,
     "metadata": {},
     "output_type": "execute_result"
    }
   ],
   "source": [
    "np.nanmean(a)"
   ]
  },
  {
   "cell_type": "code",
   "execution_count": 9,
   "id": "039be144",
   "metadata": {},
   "outputs": [
    {
     "data": {
      "text/plain": [
       "nan"
      ]
     },
     "execution_count": 9,
     "metadata": {},
     "output_type": "execute_result"
    }
   ],
   "source": [
    "np.mean(a)"
   ]
  },
  {
   "cell_type": "code",
   "execution_count": 10,
   "id": "8f63cbf7",
   "metadata": {},
   "outputs": [
    {
     "data": {
      "text/plain": [
       "nan"
      ]
     },
     "execution_count": 10,
     "metadata": {},
     "output_type": "execute_result"
    }
   ],
   "source": [
    "np.median(a)"
   ]
  },
  {
   "cell_type": "code",
   "execution_count": 11,
   "id": "646e60b3",
   "metadata": {},
   "outputs": [],
   "source": [
    "b = np.array([8000,10000, 10000, 9500])"
   ]
  },
  {
   "cell_type": "code",
   "execution_count": 12,
   "id": "c03f8cbc",
   "metadata": {},
   "outputs": [
    {
     "data": {
      "text/plain": [
       "9750.0"
      ]
     },
     "execution_count": 12,
     "metadata": {},
     "output_type": "execute_result"
    }
   ],
   "source": [
    "np.median(b)"
   ]
  },
  {
   "cell_type": "code",
   "execution_count": null,
   "id": "84955e73",
   "metadata": {},
   "outputs": [],
   "source": []
  }
 ],
 "metadata": {
  "kernelspec": {
   "display_name": "Python 3 (ipykernel)",
   "language": "python",
   "name": "python3"
  },
  "language_info": {
   "codemirror_mode": {
    "name": "ipython",
    "version": 3
   },
   "file_extension": ".py",
   "mimetype": "text/x-python",
   "name": "python",
   "nbconvert_exporter": "python",
   "pygments_lexer": "ipython3",
   "version": "3.9.7"
  }
 },
 "nbformat": 4,
 "nbformat_minor": 5
}
