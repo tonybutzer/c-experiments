{
 "cells": [
  {
   "cell_type": "code",
   "execution_count": null,
   "id": "4454ce87",
   "metadata": {},
   "outputs": [],
   "source": [
    "from cubelib.stac_eco import Stac_eco\n",
    "from cubelib.fm_map import Fmap"
   ]
  },
  {
   "cell_type": "code",
   "execution_count": null,
   "id": "464b8413",
   "metadata": {},
   "outputs": [],
   "source": [
    "import pandas as pd\n",
    "# pd.set_option('display.max_colwidth', None)\n",
    "# pd.set_option('display.max_rows', None)\n",
    "# pd.set_option('display.max_columns', None)\n",
    "# pd.set_option('display.width', 2000)"
   ]
  },
  {
   "cell_type": "code",
   "execution_count": null,
   "id": "a1aefa0c",
   "metadata": {},
   "outputs": [],
   "source": [
    "#! cp ../2_Gridding_For_Scale/*.geojson .\n",
    "! ls *.geojson"
   ]
  },
  {
   "cell_type": "code",
   "execution_count": null,
   "id": "3d1b592b",
   "metadata": {},
   "outputs": [],
   "source": [
    "geojson_file = 'one_tile.geojson'\n",
    "se = Stac_eco(geojson_file)"
   ]
  },
  {
   "cell_type": "code",
   "execution_count": null,
   "id": "b93946b2",
   "metadata": {},
   "outputs": [],
   "source": [
    "se"
   ]
  },
  {
   "cell_type": "code",
   "execution_count": null,
   "id": "227228b3",
   "metadata": {},
   "outputs": [],
   "source": [
    "se.set_collection('landsat-c2ard-sr')"
   ]
  },
  {
   "cell_type": "code",
   "execution_count": null,
   "id": "98ab9b36",
   "metadata": {},
   "outputs": [],
   "source": [
    "se"
   ]
  },
  {
   "cell_type": "code",
   "execution_count": null,
   "id": "5635a32c",
   "metadata": {},
   "outputs": [],
   "source": [
    "fm = Fmap()\n",
    "fm.sat_geojson(geojson_file)"
   ]
  },
  {
   "cell_type": "code",
   "execution_count": null,
   "id": "117e29f0",
   "metadata": {},
   "outputs": [],
   "source": [
    "dates=\"2020-04-01/2020-10-31\""
   ]
  },
  {
   "cell_type": "code",
   "execution_count": null,
   "id": "5bfef6ee",
   "metadata": {},
   "outputs": [],
   "source": [
    "search_object_eco = se.search(dates)"
   ]
  },
  {
   "cell_type": "code",
   "execution_count": null,
   "id": "43d5caf4",
   "metadata": {},
   "outputs": [],
   "source": [
    "number_of_matched_scenes = search_object_eco.matched()"
   ]
  },
  {
   "cell_type": "code",
   "execution_count": null,
   "id": "fc65317e",
   "metadata": {},
   "outputs": [],
   "source": [
    "print(f\"I found {number_of_matched_scenes} Scenes yay!\")"
   ]
  },
  {
   "cell_type": "code",
   "execution_count": null,
   "id": "05fc8e1a",
   "metadata": {},
   "outputs": [],
   "source": [
    "so = search_object_eco"
   ]
  },
  {
   "cell_type": "code",
   "execution_count": null,
   "id": "f787ec34",
   "metadata": {},
   "outputs": [],
   "source": [
    "gdf1 = se.items_gdf(so)"
   ]
  },
  {
   "cell_type": "code",
   "execution_count": null,
   "id": "8d6bb008",
   "metadata": {
    "scrolled": false
   },
   "outputs": [],
   "source": [
    "#gdf1"
   ]
  },
  {
   "cell_type": "code",
   "execution_count": null,
   "id": "f0054a4b",
   "metadata": {},
   "outputs": [],
   "source": [
    "gdf1.T"
   ]
  },
  {
   "cell_type": "code",
   "execution_count": null,
   "id": "cc9d8e8a",
   "metadata": {
    "scrolled": true
   },
   "outputs": [],
   "source": [
    "import pandas as pd\n",
    "pd.set_option('display.max_colwidth', None)\n",
    "gdf1['stac_extensions']"
   ]
  },
  {
   "cell_type": "code",
   "execution_count": null,
   "id": "5727d675",
   "metadata": {},
   "outputs": [],
   "source": [
    "se.plot_polygons(so)"
   ]
  },
  {
   "cell_type": "code",
   "execution_count": null,
   "id": "6508837e",
   "metadata": {},
   "outputs": [],
   "source": [
    "gdf1['properties.landsat:grid_vertical']"
   ]
  },
  {
   "cell_type": "code",
   "execution_count": null,
   "id": "c965ee9a",
   "metadata": {},
   "outputs": [],
   "source": [
    "gdf1['properties.landsat:grid_horizontal']"
   ]
  },
  {
   "cell_type": "code",
   "execution_count": null,
   "id": "865661c6",
   "metadata": {},
   "outputs": [],
   "source": [
    "gdf2 = gdf1[gdf1['properties.landsat:grid_horizontal']=='29']"
   ]
  },
  {
   "cell_type": "code",
   "execution_count": null,
   "id": "f06c2037",
   "metadata": {},
   "outputs": [],
   "source": [
    "gdf2.T"
   ]
  },
  {
   "cell_type": "code",
   "execution_count": null,
   "id": "d5eeadd1",
   "metadata": {},
   "outputs": [],
   "source": [
    "gdf3 = gdf2[gdf2['properties.landsat:grid_vertical']=='03']"
   ]
  },
  {
   "cell_type": "code",
   "execution_count": null,
   "id": "d02b2c1b",
   "metadata": {},
   "outputs": [],
   "source": [
    "gdf3[['properties.landsat:grid_horizontal', 'properties.landsat:grid_vertical']]"
   ]
  },
  {
   "cell_type": "code",
   "execution_count": null,
   "id": "f8fd2183",
   "metadata": {},
   "outputs": [],
   "source": [
    "len(gdf3[['properties.landsat:grid_horizontal', 'properties.landsat:grid_vertical']])"
   ]
  },
  {
   "cell_type": "code",
   "execution_count": null,
   "id": "8fbf7f1c",
   "metadata": {},
   "outputs": [],
   "source": [
    "dir(se)"
   ]
  },
  {
   "cell_type": "code",
   "execution_count": null,
   "id": "3549b64e",
   "metadata": {},
   "outputs": [],
   "source": [
    "se.df_assets(so)"
   ]
  },
  {
   "cell_type": "code",
   "execution_count": null,
   "id": "b892c1b1",
   "metadata": {},
   "outputs": [],
   "source": [
    "import boto3\n",
    "from rasterio.session import AWSSession\n",
    "aws_session = AWSSession(boto3.Session(), requester_pays=True)"
   ]
  },
  {
   "cell_type": "code",
   "execution_count": null,
   "id": "f507fc62",
   "metadata": {},
   "outputs": [],
   "source": [
    "import rasterio as rio\n",
    "import xarray as xr\n",
    "def create_dataset(row, bands = ['Swirs', 'Green'], chunks = {'band': 1, 'x':2048, 'y':2048}):\n",
    "    datasets = []\n",
    "    with rio.Env(aws_session):\n",
    "        for band in bands:\n",
    "            print(row[band]['href'])\n",
    "            url = row[band]['href']\n",
    "            url = url.replace('usgs-landsat', 'usgs-landsat-ard')\n",
    "            #da = xr.open_rasterio(url, chunks = chunks)\n",
    "            da = xr.open_rasterio(url)\n",
    "            daSub=da\n",
    "#             daSub = da.sel(x=slice(ll_corner[0], ur_corner[0]), y=slice(ur_corner[1], ll_corner[1]))\n",
    "            daSub = daSub.squeeze().drop(labels='band')\n",
    "            DS = daSub.to_dataset(name = band)\n",
    "            datasets.append(DS)\n",
    "        DS = xr.merge(datasets)\n",
    "        return DS"
   ]
  },
  {
   "cell_type": "code",
   "execution_count": null,
   "id": "d14d79ae",
   "metadata": {},
   "outputs": [],
   "source": [
    "def asset_gdf(my_gdf,bands):\n",
    "    #print(my_gdf.keys)\n",
    "    i_dict_array = []\n",
    "    for i,item in my_gdf.iterrows():\n",
    "            i_dict ={}\n",
    "            print(item.id)\n",
    "            i_dict['id'] = item.id\n",
    "            for band in bands:\n",
    "                href = f'assets.{band}.href'\n",
    "                #print(item[href])\n",
    "                i_dict[band] = {'band': band,\n",
    "                 'href': item[href]\n",
    "                }\n",
    "            i_dict_array.append(i_dict)\n",
    "    print(i_dict_array)\n",
    "    new_gdf = pd.DataFrame(i_dict_array)\n",
    "    return new_gdf"
   ]
  },
  {
   "cell_type": "code",
   "execution_count": null,
   "id": "ade0497c",
   "metadata": {},
   "outputs": [],
   "source": [
    "gdf3"
   ]
  },
  {
   "cell_type": "code",
   "execution_count": null,
   "id": "697f8d35",
   "metadata": {},
   "outputs": [],
   "source": [
    "bands=['blue','green','red','nir08','qa_pixel']\n",
    "gdf4=asset_gdf(gdf3,bands)"
   ]
  },
  {
   "cell_type": "code",
   "execution_count": null,
   "id": "92a9ecbe",
   "metadata": {},
   "outputs": [],
   "source": [
    "gdf4.id"
   ]
  },
  {
   "cell_type": "code",
   "execution_count": null,
   "id": "1fdd44a8",
   "metadata": {},
   "outputs": [],
   "source": [
    "datasets = []\n",
    "for i,row in gdf4.iterrows():\n",
    "    try:\n",
    "        print('loading....', row.id)\n",
    "        \n",
    "        ds = create_dataset(row,bands)\n",
    "        datasets.append(ds)\n",
    "    except Exception as e:\n",
    "        print('Error loading, skipping')\n",
    "        print(e)"
   ]
  },
  {
   "cell_type": "code",
   "execution_count": null,
   "id": "78a00ae0",
   "metadata": {},
   "outputs": [],
   "source": [
    "! aws s3 ls --request-payer requester s3://usgs-landsat/collection02/oli-tirs/2020/CU/029/003/LC08_CU_029003_20200419_20210504_02/LC08_CU_029003_20200419_20210504_02_SR_B2.TIF"
   ]
  },
  {
   "cell_type": "code",
   "execution_count": null,
   "id": "7420c799",
   "metadata": {},
   "outputs": [],
   "source": [
    "! aws s3 ls --request-payer requester s3://usgs-landsat/collection02/oli-tirs/2020/CU/029/003/"
   ]
  },
  {
   "cell_type": "code",
   "execution_count": null,
   "id": "ca6a5078",
   "metadata": {},
   "outputs": [],
   "source": [
    "! aws s3 ls --request-payer requester s3://usgs-landsat-ard/collection02/oli-tirs/2020/CU/029/003/"
   ]
  },
  {
   "cell_type": "code",
   "execution_count": null,
   "id": "d05bd6da",
   "metadata": {},
   "outputs": [],
   "source": [
    "datasets"
   ]
  },
  {
   "cell_type": "code",
   "execution_count": null,
   "id": "31044872",
   "metadata": {},
   "outputs": [],
   "source": [
    "! date"
   ]
  },
  {
   "cell_type": "code",
   "execution_count": null,
   "id": "469cf3f9",
   "metadata": {},
   "outputs": [],
   "source": [
    "gdf3"
   ]
  },
  {
   "cell_type": "code",
   "execution_count": null,
   "id": "9afc170d",
   "metadata": {},
   "outputs": [],
   "source": [
    "gdf3.keys()"
   ]
  },
  {
   "cell_type": "code",
   "execution_count": null,
   "id": "86fc08da",
   "metadata": {},
   "outputs": [],
   "source": [
    "gdf3['properties.start_datetime'].tolist()"
   ]
  },
  {
   "cell_type": "code",
   "execution_count": null,
   "id": "573b2a70",
   "metadata": {},
   "outputs": [],
   "source": [
    "len(gdf3)"
   ]
  },
  {
   "cell_type": "code",
   "execution_count": null,
   "id": "5d7e5372",
   "metadata": {},
   "outputs": [],
   "source": [
    "gdf3.index.tolist()"
   ]
  },
  {
   "cell_type": "code",
   "execution_count": null,
   "id": "2f028c45",
   "metadata": {},
   "outputs": [],
   "source": [
    "from datetime import datetime\n",
    "my_date_list = gdf3.index.tolist()\n",
    "my_str_date_list=[]\n",
    "for dt in my_date_list:\n",
    "    print(dt)\n",
    "    str_dt = dt.strftime('%Y-%m-%d')\n",
    "    print(str_dt)\n",
    "    my_str_date_list.append(str_dt)"
   ]
  },
  {
   "cell_type": "code",
   "execution_count": null,
   "id": "07ace736",
   "metadata": {},
   "outputs": [],
   "source": [
    "DS = xr.concat(datasets, dim= pd.DatetimeIndex(my_str_date_list, name='time'))"
   ]
  },
  {
   "cell_type": "code",
   "execution_count": null,
   "id": "77c6103d",
   "metadata": {},
   "outputs": [],
   "source": [
    "print('Dataset Size (Gb): ', DS.nbytes/1e9)"
   ]
  },
  {
   "cell_type": "code",
   "execution_count": null,
   "id": "95e21bb1",
   "metadata": {},
   "outputs": [],
   "source": [
    "DS"
   ]
  },
  {
   "cell_type": "code",
   "execution_count": null,
   "id": "1931d771",
   "metadata": {},
   "outputs": [],
   "source": [
    "DS['red'].isel(time=0).plot()"
   ]
  },
  {
   "cell_type": "code",
   "execution_count": null,
   "id": "caa3a0fc",
   "metadata": {},
   "outputs": [],
   "source": [
    "DS['red'][1].plot()"
   ]
  },
  {
   "cell_type": "code",
   "execution_count": null,
   "id": "449bdae3",
   "metadata": {},
   "outputs": [],
   "source": [
    "DS['red'][15].plot()"
   ]
  },
  {
   "cell_type": "code",
   "execution_count": null,
   "id": "3ce9ec2b",
   "metadata": {},
   "outputs": [],
   "source": []
  },
  {
   "cell_type": "code",
   "execution_count": null,
   "id": "4ebd4fca",
   "metadata": {},
   "outputs": [],
   "source": [
    "ds_mini = DS.isel(x=slice(0,5000,10), y=slice(0,5000,10))"
   ]
  },
  {
   "cell_type": "code",
   "execution_count": null,
   "id": "efbac7dd",
   "metadata": {},
   "outputs": [],
   "source": [
    "ds_mini"
   ]
  },
  {
   "cell_type": "code",
   "execution_count": null,
   "id": "b27e115f",
   "metadata": {},
   "outputs": [],
   "source": [
    "%matplotlib inline\n",
    "\n",
    "display_color = 'blue'\n",
    "# \n",
    "#ds_mini[display_color].plot.imshow('x','y', col='time', col_wrap=6, cmap='viridis')\n",
    "ds_mini[display_color].plot.imshow('x','y', col='time', col_wrap=6, cmap='viridis', vmin=7000, vmax=19000)"
   ]
  },
  {
   "cell_type": "code",
   "execution_count": null,
   "id": "1f105947",
   "metadata": {},
   "outputs": [],
   "source": [
    "ds_mini.hvplot()"
   ]
  },
  {
   "cell_type": "code",
   "execution_count": null,
   "id": "ab99c70c",
   "metadata": {},
   "outputs": [],
   "source": [
    "ds_mini['red'][0].hvplot.image(rasterize=True)"
   ]
  },
  {
   "cell_type": "code",
   "execution_count": null,
   "id": "324ce7d4",
   "metadata": {},
   "outputs": [],
   "source": [
    "ds_mini['red'][0].plot()"
   ]
  },
  {
   "cell_type": "code",
   "execution_count": null,
   "id": "30f2c227",
   "metadata": {},
   "outputs": [],
   "source": [
    "d2 = ds_mini.transpose('time', 'y', 'x')"
   ]
  },
  {
   "cell_type": "code",
   "execution_count": null,
   "id": "130c51fd",
   "metadata": {},
   "outputs": [],
   "source": [
    "d2['red'].hvplot.image(rasterize=True)"
   ]
  },
  {
   "cell_type": "code",
   "execution_count": null,
   "id": "3262d227",
   "metadata": {},
   "outputs": [],
   "source": [
    "d2"
   ]
  },
  {
   "cell_type": "code",
   "execution_count": null,
   "id": "ed2d4b6d",
   "metadata": {},
   "outputs": [],
   "source": [
    "dir(d2)"
   ]
  },
  {
   "cell_type": "code",
   "execution_count": null,
   "id": "18252bb4",
   "metadata": {},
   "outputs": [],
   "source": [
    "d2.swap_dims({'time')"
   ]
  },
  {
   "cell_type": "code",
   "execution_count": null,
   "id": "f6ec5872",
   "metadata": {},
   "outputs": [],
   "source": [
    "help(d2.swap_dims)"
   ]
  },
  {
   "cell_type": "code",
   "execution_count": null,
   "id": "5a8b47f5",
   "metadata": {},
   "outputs": [],
   "source": [
    "help(d2.rename)"
   ]
  },
  {
   "cell_type": "code",
   "execution_count": null,
   "id": "77d5fd3d",
   "metadata": {},
   "outputs": [],
   "source": [
    "d2.swap_dims({'time':'x'})"
   ]
  },
  {
   "cell_type": "code",
   "execution_count": null,
   "id": "3c102288",
   "metadata": {},
   "outputs": [],
   "source": [
    "d2.dims"
   ]
  },
  {
   "cell_type": "code",
   "execution_count": null,
   "id": "2c17388a",
   "metadata": {},
   "outputs": [],
   "source": [
    "d2.drop_dims()"
   ]
  },
  {
   "cell_type": "code",
   "execution_count": null,
   "id": "f74006f1",
   "metadata": {},
   "outputs": [],
   "source": [
    "help(d2.drop_dims)"
   ]
  },
  {
   "cell_type": "code",
   "execution_count": null,
   "id": "6757ade2",
   "metadata": {},
   "outputs": [],
   "source": [
    "d2['red'].hvplot.image(rasterize=True,  x='x', y='y', width=600, height=400, cmap='viridis', clim=(4000,20000))"
   ]
  },
  {
   "cell_type": "code",
   "execution_count": null,
   "id": "5f2efd61",
   "metadata": {},
   "outputs": [],
   "source": [
    "help(d2['red'].hvplot.image)"
   ]
  },
  {
   "cell_type": "code",
   "execution_count": null,
   "id": "0160d3c0",
   "metadata": {},
   "outputs": [],
   "source": [
    "d2['qa_pixel'].hvplot.image(rasterize=True,  x='x', y='y', width=600, height=400, cmap='viridis')"
   ]
  },
  {
   "cell_type": "code",
   "execution_count": null,
   "id": "9f49e2bd",
   "metadata": {},
   "outputs": [],
   "source": []
  }
 ],
 "metadata": {
  "kernelspec": {
   "display_name": "Python 3 (ipykernel)",
   "language": "python",
   "name": "python3"
  },
  "language_info": {
   "codemirror_mode": {
    "name": "ipython",
    "version": 3
   },
   "file_extension": ".py",
   "mimetype": "text/x-python",
   "name": "python",
   "nbconvert_exporter": "python",
   "pygments_lexer": "ipython3",
   "version": "3.9.7"
  }
 },
 "nbformat": 4,
 "nbformat_minor": 5
}
